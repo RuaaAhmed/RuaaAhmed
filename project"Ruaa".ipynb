{
  "nbformat": 4,
  "nbformat_minor": 0,
  "metadata": {
    "colab": {
      "provenance": [],
      "collapsed_sections": [],
      "authorship_tag": "ABX9TyMkZIqCNa/F7mrTygCpksv+",
      "include_colab_link": true
    },
    "kernelspec": {
      "name": "python3",
      "display_name": "Python 3"
    },
    "language_info": {
      "name": "python"
    }
  },
  "cells": [
    {
      "cell_type": "markdown",
      "metadata": {
        "id": "view-in-github",
        "colab_type": "text"
      },
      "source": [
        "<a href=\"https://colab.research.google.com/github/RuaaAhmed/RuaaAhmed/blob/main/project%22Ruaa%22.ipynb\" target=\"_parent\"><img src=\"https://colab.research.google.com/assets/colab-badge.svg\" alt=\"Open In Colab\"/></a>"
      ]
    },
    {
      "cell_type": "code",
      "execution_count": 8,
      "metadata": {
        "colab": {
          "base_uri": "https://localhost:8080/",
          "height": 1000
        },
        "id": "TJwycJOMwpSg",
        "outputId": "d22c5d4f-7bb0-4b7b-9c33-8f9f668f0a59"
      },
      "outputs": [
        {
          "output_type": "stream",
          "name": "stdout",
          "text": [
            "0       low\n",
            "1       low\n",
            "2       low\n",
            "3       low\n",
            "4       low\n",
            "       ... \n",
            "1211    low\n",
            "1212    low\n",
            "1213    low\n",
            "1214    low\n",
            "1215    low\n",
            "Name: Cases_binning, Length: 1216, dtype: category\n",
            "Categories (3, object): ['low' < 'mid' < 'high']\n",
            "count    1216.000000\n",
            "mean       35.097862\n",
            "std       111.747214\n",
            "min         1.000000\n",
            "25%         1.000000\n",
            "50%         3.000000\n",
            "75%        13.000000\n",
            "max      1499.000000\n",
            "Name: Cases, dtype: float64\n",
            "count      3.000000\n",
            "mean     405.333333\n",
            "std      310.132767\n",
            "min       69.000000\n",
            "25%      268.000000\n",
            "50%      467.000000\n",
            "75%      573.500000\n",
            "max      680.000000\n",
            "Name: Indicator, dtype: float64\n",
            "                Cases                                                \\\n",
            "region       Al Bahah   Al Jouf      Asir Eastern Region       Hail   \n",
            "Indicator                                                             \n",
            "Cases        2.666667  1.888889  4.702703      36.209459  12.181818   \n",
            "Mortalities       NaN       NaN  2.000000       1.375000        NaN   \n",
            "Recoveries   2.466667  1.714286  4.300000      31.056911   9.600000   \n",
            "\n",
            "                                                                          \\\n",
            "region           Jazan      Mecca      Medina    Najran Northern Borders   \n",
            "Indicator                                                                  \n",
            "Cases        10.318182  75.327273   47.526316  4.777778         4.363636   \n",
            "Mortalities   1.000000   3.805556    2.166667       NaN         1.000000   \n",
            "Recoveries    8.777778  65.649351  147.241379  3.600000         2.909091   \n",
            "\n",
            "                                             \n",
            "region         Qassim     Riyadh      Tabuk  \n",
            "Indicator                                    \n",
            "Cases        8.586957  57.007463   7.947368  \n",
            "Mortalities  1.000000   3.100000   2.000000  \n",
            "Recoveries   9.350000  48.550725  18.842105  \n"
          ]
        },
        {
          "output_type": "execute_result",
          "data": {
            "text/plain": [
              "<function matplotlib.pyplot.show(*args, **kw)>"
            ]
          },
          "metadata": {},
          "execution_count": 8
        },
        {
          "output_type": "display_data",
          "data": {
            "text/plain": [
              "<Figure size 432x288 with 1 Axes>"
            ],
            "image/png": "[encoded data removed]"
          },
          "metadata": {}
        }
      ],
      "source": [
        "import pandas as myData\n",
        "import numpy as np\n",
        "import matplotlib.pyplot as plt\n",
        "\n",
        "rData = myData.read_excel('SA-COVID19v1.xlsx', sheet_name = 'Sheet',skiprows = range(2), skipfooter = 29599)\n",
        "Header =[\"Daily / Cumulative\",\"Indicator\",\"Date\",\"Event\",\"region\",\"City\",\"Cases\"]\n",
        "rData.columns = Header\n",
        "\n",
        "\n",
        "#Check All Data Types\n",
        "rData.dtypes\n",
        "\n",
        "\n",
        "#Check All Statistical Matric of Dataset \"we can not do it know because all data is object\"\n",
        "\n",
        "\n",
        "#drop unnecessary record (“Total”)\n",
        "rData.set_index('City', inplace = True)\n",
        "rData.drop(\"Total\",axis=0,inplace=True)\n",
        "\n",
        "\n",
        "#Save a New Data Frame after Changing\n",
        "rData.to_excel(\"DATA1.xlsx\")\n",
        "\n",
        "\n",
        "#Check All Missing Values in \n",
        "rData.isna\n",
        "rData[\"Cases\"].replace(\"?\", np.nan, inplace = True)\n",
        "rData.dropna(subset=[\"Cases\"],axis=0, inplace=True)\n",
        "\n",
        "\n",
        "#Change Wrong Format in Dataset\n",
        "rData.dtypes \n",
        "\n",
        "\n",
        "##rData['Cases'] = rData['Cases'].astype(\"float64\")\n",
        "##print(myData[\"Cases\"].dtypes)\n",
        "\n",
        "\n",
        "#Drop Attributes: Daily / Cumulative, Event\n",
        "rData.drop([\"Daily / Cumulative\", \"Event\"],axis=1,inplace=True)\n",
        "\n",
        "\n",
        "###Create Data Binning for Total Attribute → BTotal\n",
        "rData.reset_index(inplace=True)\n",
        "bins = np.linspace(min(rData[\"Cases\"]), max(rData[\"Cases\"]), 4)\n",
        "g_names = [\"low\", \"mid\", \"high\"]\n",
        "rData[\"Cases_binning\"] = myData.cut(rData[\"Cases\"], bins, labels=g_names, include_lowest = True)\n",
        "print(rData[\"Cases_binning\"])\n",
        "\n",
        "\n",
        "#Descriptive Statistics:Para.: Indicator vs. Cases\n",
        "print(rData[\"Cases\"].describe())\n",
        "count1 =rData[\"Indicator\"].value_counts()\n",
        "print(count1.describe())\n",
        "\n",
        "\n",
        "#Grouping Data:Para.: Indicator vs.Region vs. Cases\n",
        "Group_By =rData[[\"Indicator\",\"region\",\"Cases\"]]\n",
        "Group_By_Test = Group_By.groupby([\"Indicator\", \"region\"], as_index = False).mean()\n",
        "Table_Data = Group_By_Test.pivot_table( columns='region',index='Indicator')\n",
        "print(Table_Data)\n",
        "\n",
        "\n",
        "##data for city and total cases\n",
        "total=Table_Data.sum(axis=0)\n",
        "Table_Data=Table_Data.append(total,ignore_index=True)\n",
        "Table_Data.drop([0,1,2],axis=0,inplace=True)\n",
        "Table_Data.columns=Table_Data.columns.droplevel(0)\n",
        "Table_Data.columns.name= None\n",
        "Table_Data=Table_Data.transpose()\n",
        "Table_Data=Table_Data.reset_index()\n",
        "Table_Data.rename(columns={'index':'region',3:'Cases'},inplace=True)\n",
        "#print(Table_Data)\n",
        "\n",
        "\n",
        "\n",
        "# Pie chart to draw total cases in regions.\n",
        "Table_Data.set_index('region', inplace = True)\n",
        "Table_Data['Cases'].plot(kind='pie',autopct='%.0f%%')\n",
        "plt.show\n"
      ]
    }
  ]
}